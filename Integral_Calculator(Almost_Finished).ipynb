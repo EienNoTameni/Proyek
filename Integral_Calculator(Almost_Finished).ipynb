{
  "nbformat": 4,
  "nbformat_minor": 0,
  "metadata": {
    "colab": {
      "name": "Integral Calculator(Almost Finished)",
      "provenance": [],
      "collapsed_sections": [],
      "authorship_tag": "ABX9TyOfj7+lGjcqFDZSw1sYcJrX",
      "include_colab_link": true
    },
    "kernelspec": {
      "name": "python3",
      "display_name": "Python 3"
    },
    "language_info": {
      "name": "python"
    }
  },
  "cells": [
    {
      "cell_type": "markdown",
      "metadata": {
        "id": "view-in-github",
        "colab_type": "text"
      },
      "source": [
        "<a href=\"https://colab.research.google.com/github/EienNoTameni/Proyek/blob/main/Integral_Calculator(Almost_Finished).ipynb\" target=\"_parent\"><img src=\"https://colab.research.google.com/assets/colab-badge.svg\" alt=\"Open In Colab\"/></a>"
      ]
    },
    {
      "cell_type": "code",
      "source": [
        "import sympy as sym"
      ],
      "metadata": {
        "id": "Sw-1PI-3mLEH"
      },
      "execution_count": 2,
      "outputs": []
    },
    {
      "cell_type": "code",
      "execution_count": 25,
      "metadata": {
        "id": "ovJWXXeJZVE4",
        "colab": {
          "base_uri": "https://localhost:8080/"
        },
        "outputId": "c790521c-ce75-411b-a3cc-cb250aa7b477"
      },
      "outputs": [
        {
          "output_type": "stream",
          "name": "stdout",
          "text": [
            "Indefinite and Definite Calculator\n",
            "1). Indefinite Calculator\n",
            "a). Basic Integral\n",
            "Input your function : x\n",
            "The result of the integration is :  x**2/2\n",
            "-------------------------------------------------------------\n",
            "b). Intergal Beetween 2 function with Basic Operation\n",
            "Input your 1st function : x\n",
            "Input your 2nd function : x\n",
            "The result of the integration is :  xx**2/2\n",
            "-------------------------------------------------------------\n",
            "2). Definite Calculator\n",
            "a). Basic Integral\n",
            "Input your lower bound : 0\n",
            "Input your upper bound : 2\n",
            "Input your function : x\n",
            "The result of the integration is :  2.00000000000000\n",
            "-------------------------------------------------------------\n",
            "b). Intergal Beetween 2 function with Basic Operation\n",
            "Input your lower bound : 0\n",
            "Input your upper bound : 3\n",
            "Input your 1st function : x\n",
            "Input your 2nd function : x\n",
            "The result of the integration is :  xx**2/2 (x, 0.0, 3.0)\n",
            "-------------------------------------------------------------\n",
            "Type \"RESTART\" if you want restart your iteration, or type \"NO\" to stop : NO\n",
            "Thank Your for choosing this calculator\n",
            "-------------------------------------------------------------\n"
          ]
        }
      ],
      "source": [
        "print('Indefinite and Definite Calculator')\n",
        "\n",
        "print('1). Indefinite Calculator')\n",
        "\n",
        "print('a). Basic Integral')\n",
        "\n",
        "f = lambda x: input('Input your function : ' )\n",
        "\n",
        "x = sym.symbols('x')\n",
        "\n",
        "print('The result of the integration is : ', sym.integrate(f(x)))\n",
        "\n",
        "print('-------------------------------------------------------------')\n",
        "\n",
        "print('b). Intergal Beetween 2 function with Basic Operation')\n",
        "\n",
        "f = lambda x: input('Input your 1st function : ' )\n",
        "g = lambda x: input('Input your 2nd function : ' )\n",
        "\n",
        "x = sym.symbols('x')\n",
        "\n",
        "print('The result of the integration is : ', sym.integrate(f(x) + g(x)))\n",
        "\n",
        "print('-------------------------------------------------------------')\n",
        "\n",
        "print('2). Definite Calculator')\n",
        "\n",
        "print('a). Basic Integral')\n",
        "\n",
        "f = lambda x: input('Input your function : ' )\n",
        "a = float(input('Input your lower bound : '))\n",
        "b = float(input('Input your upper bound : '))\n",
        "\n",
        "x = sym.symbols('x')\n",
        "\n",
        "print('The result of the integration is : ', sym.integrate(f(x), (x, a, b)))\n",
        "\n",
        "print('-------------------------------------------------------------')\n",
        "\n",
        "print('b). Intergal Beetween 2 function with Basic Operation')\n",
        "\n",
        "f = lambda x: input('Input your 1st function : ' )\n",
        "g = lambda x: input('Input your 2nd function : ' )\n",
        "a = float(input('Input your lower bound : '))\n",
        "b = float(input('Input your upper bound : '))\n",
        "\n",
        "x = sym.symbols('x')\n",
        "\n",
        "print('The result of the integration is : ', sym.integrate(f(x) + g(x)), (x, a, b))\n",
        "\n",
        "print('-------------------------------------------------------------')\n",
        "\n",
        "LaunchButton = input('Type \"RESTART\" if you want restart your iteration, or type \"NO\" to stop : ')\n",
        "  \n",
        "if LaunchButton == 'RESTART':\n",
        "  main()\n",
        "elif LaunchButton == 'NO':\n",
        "  print('Thank Your for choosing this calculator')\n",
        "\n",
        "print('-------------------------------------------------------------')"
      ]
    },
    {
      "cell_type": "markdown",
      "source": [
        "Note : Almost finished, but i don't know how to make sum operation on the integrate formulas"
      ],
      "metadata": {
        "id": "cGTBHtB4ceeH"
      }
    }
  ]
}